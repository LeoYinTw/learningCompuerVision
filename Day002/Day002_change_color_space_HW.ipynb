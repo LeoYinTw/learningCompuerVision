{
 "cells": [
  {
   "cell_type": "code",
   "execution_count": 1,
   "metadata": {},
   "outputs": [],
   "source": [
    "import cv2\n",
    "import numpy as np\n",
    "\n",
    "img_org = cv2.imread('data/lena.png', cv2.IMREAD_COLOR)\n",
    "img_org_small = cv2.resize(img_org, None, fx=0.5, fy=0.5)\n",
    "\n",
    "img_hsv = cv2.cvtColor(img_org_small, cv2.COLOR_BGR2HSV)\n",
    "img_hls = cv2.cvtColor(img_org_small, cv2.COLOR_BGR2HLS)\n",
    "img_lab = cv2.cvtColor(img_org_small, cv2.COLOR_BGR2LAB)\n",
    "\n",
    "img_result = np.hstack((img_org_small, img_hsv, img_hls, img_lab))\n",
    "cv2.imshow('result', img_result)\n",
    "cv2.waitKey(0)\n",
    "cv2.destroyAllWindows()\n"
   ]
  },
  {
   "cell_type": "code",
   "execution_count": null,
   "metadata": {},
   "outputs": [],
   "source": []
  }
 ],
 "metadata": {
  "kernelspec": {
   "display_name": "Python 3",
   "language": "python",
   "name": "python3"
  },
  "language_info": {
   "codemirror_mode": {
    "name": "ipython",
    "version": 3
   },
   "file_extension": ".py",
   "mimetype": "text/x-python",
   "name": "python",
   "nbconvert_exporter": "python",
   "pygments_lexer": "ipython3",
   "version": "3.7.3"
  }
 },
 "nbformat": 4,
 "nbformat_minor": 2
}
