{
 "cells": [
  {
   "cell_type": "code",
   "execution_count": null,
   "metadata": {},
   "outputs": [],
   "source": [
    "import cv2\n",
    "img_box = cv2.imread('data/box.png', cv2.IMREAD_COLOR)\n",
    "img_scene = cv2.imread('data/box_in_scene.png', cv2.IMREAD_COLOR)\n",
    "img_lena = cv2.imread('data/lena.png', cv2.IMREAD_GRAYSCALE)\n",
    "\n",
    "cv2.imshow('lena', img_lena)\n",
    "cv2.imshow('box', img_box)\n",
    "cv2.imshow('box2', img_scene)\n",
    "key = cv2.waitKey(0)\n",
    "cv2.destroyAllWindows()"
   ]
  },
  {
   "cell_type": "code",
   "execution_count": null,
   "metadata": {},
   "outputs": [],
   "source": []
  }
 ],
 "metadata": {
  "kernelspec": {
   "display_name": "Python 3",
   "language": "python",
   "name": "python3"
  },
  "language_info": {
   "codemirror_mode": {
    "name": "ipython",
    "version": 3
   },
   "file_extension": ".py",
   "mimetype": "text/x-python",
   "name": "python",
   "nbconvert_exporter": "python",
   "pygments_lexer": "ipython3",
   "version": "3.7.3"
  }
 },
 "nbformat": 4,
 "nbformat_minor": 2
}
