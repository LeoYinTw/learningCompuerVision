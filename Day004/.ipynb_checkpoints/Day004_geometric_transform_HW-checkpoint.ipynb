{
 "cells": [
  {
   "cell_type": "code",
   "execution_count": 1,
   "metadata": {},
   "outputs": [
    {
     "name": "stdout",
     "output_type": "stream",
     "text": [
      "<class 'numpy.ndarray'>\n"
     ]
    }
   ],
   "source": [
    "import cv2\n",
    "import time\n",
    "import numpy as np\n",
    "\n",
    "img_org = cv2.imread('../commonData/lena.png')\n",
    "print(type(img_org))"
   ]
  },
  {
   "cell_type": "code",
   "execution_count": 5,
   "metadata": {},
   "outputs": [],
   "source": [
    "# (1)) 上下左右翻轉圖片\n",
    "\n",
    "# 縮小成60%\n",
    "img_small = cv2.resize(img_org, None, fx=0.6, fy=0.6)\n",
    "\n",
    "# 水平翻轉 (horizontal)\n",
    "img_hflip = img_small[:,::-1,:]\n",
    "\n",
    "# 垂直翻轉 (vertical)\n",
    "img_vflip = img_small[::-1,:,:]\n",
    "\n",
    "# 水平 + 垂直翻轉\n",
    "img_hvflip = img_small[::-1,::-1,:]\n",
    "\n",
    "# 組合 + 顯示圖片\n",
    "hflip = np.hstack((img_small, img_hflip, img_vflip, img_hvflip))\n",
    "# vflip = np.hstack((img_vflip, img_hvflip))\n",
    "# img_flip = np.vstack((hflip, vflip))\n",
    "cv2.imshow('flip images', hflip)\n",
    "k = cv2.waitKey(0)\n",
    "cv2.destroyAllWindows()"
   ]
  },
  {
   "cell_type": "code",
   "execution_count": 10,
   "metadata": {},
   "outputs": [
    {
     "name": "stdout",
     "output_type": "stream",
     "text": [
      "INTER_NEAREST zoom cost 0.008813858032226562\n",
      "INTER_CUBIC zoom cost 0.015595674514770508\n"
     ]
    }
   ],
   "source": [
    "# (2) 縮放圖片\n",
    "\n",
    "# 將圖片縮小成原本的 20%\n",
    "img_test = cv2.resize(img_org, None, fx=0.2, fy=0.2)\n",
    "\n",
    "# 將圖片放大為\"小圖片\"的 8 倍大 = 原圖的 1.6 倍大\n",
    "target_fx, target_fy = 8, 8\n",
    "\n",
    "# 鄰近差值 scale + 計算花費時間\n",
    "start_time = time.time()\n",
    "img_area_scale = cv2.resize(img_test, None, fx=target_fx, fy=target_fy, interpolation=cv2.INTER_NEAREST)\n",
    "print('INTER_NEAREST zoom cost {}'.format(time.time() - start_time))\n",
    "\n",
    "# 雙立方差補 scale + 計算花費時間\n",
    "start_time = time.time()\n",
    "img_cubic_scale = cv2.resize(img_test, None, fx=target_fx, fy=target_fy, interpolation=cv2.INTER_CUBIC)\n",
    "print('INTER_CUBIC zoom cost {}'.format(time.time() - start_time))\n",
    "\n",
    "# 組合 + 顯示圖片\n",
    "img_zoom = np.hstack((img_area_scale, img_cubic_scale))\n",
    "cv2.imshow('zoom', img_zoom)\n",
    "k = cv2.waitKey(0)\n",
    "cv2.destroyAllWindows()"
   ]
  },
  {
   "cell_type": "code",
   "execution_count": 13,
   "metadata": {},
   "outputs": [
    {
     "ename": "TypeError",
     "evalue": "data type not understood",
     "output_type": "error",
     "traceback": [
      "\u001b[0;31m---------------------------------------------------------------------------\u001b[0m",
      "\u001b[0;31mTypeError\u001b[0m                                 Traceback (most recent call last)",
      "\u001b[0;32m<ipython-input-13-316fe6a52bd7>\u001b[0m in \u001b[0;36m<module>\u001b[0;34m\u001b[0m\n\u001b[1;32m      3\u001b[0m \u001b[0;31m# 設定 translation transformation matrix\u001b[0m\u001b[0;34m\u001b[0m\u001b[0;34m\u001b[0m\u001b[0;34m\u001b[0m\u001b[0m\n\u001b[1;32m      4\u001b[0m \u001b[0;31m# x 平移 50 pixel; y 平移 100 pixel\u001b[0m\u001b[0;34m\u001b[0m\u001b[0;34m\u001b[0m\u001b[0;34m\u001b[0m\u001b[0m\n\u001b[0;32m----> 5\u001b[0;31m \u001b[0mM\u001b[0m \u001b[0;34m=\u001b[0m \u001b[0mnp\u001b[0m\u001b[0;34m.\u001b[0m\u001b[0marray\u001b[0m\u001b[0;34m(\u001b[0m\u001b[0;34m[\u001b[0m\u001b[0;36m1\u001b[0m\u001b[0;34m,\u001b[0m \u001b[0;36m0\u001b[0m\u001b[0;34m,\u001b[0m \u001b[0;36m100\u001b[0m\u001b[0;34m]\u001b[0m\u001b[0;34m,\u001b[0m \u001b[0;34m[\u001b[0m\u001b[0;36m0\u001b[0m\u001b[0;34m,\u001b[0m \u001b[0;36m1\u001b[0m\u001b[0;34m,\u001b[0m \u001b[0;36m50\u001b[0m\u001b[0;34m]\u001b[0m\u001b[0;34m,\u001b[0m \u001b[0mdtype\u001b[0m\u001b[0;34m=\u001b[0m\u001b[0mnp\u001b[0m\u001b[0;34m.\u001b[0m\u001b[0mfloat32\u001b[0m\u001b[0;34m)\u001b[0m\u001b[0;34m\u001b[0m\u001b[0;34m\u001b[0m\u001b[0m\n\u001b[0m\u001b[1;32m      6\u001b[0m \u001b[0mshift_img\u001b[0m \u001b[0;34m=\u001b[0m \u001b[0mcv2\u001b[0m\u001b[0;34m.\u001b[0m\u001b[0mwarpAffine\u001b[0m\u001b[0;34m(\u001b[0m\u001b[0mimg_org\u001b[0m\u001b[0;34m,\u001b[0m \u001b[0mM\u001b[0m\u001b[0;34m,\u001b[0m \u001b[0;34m(\u001b[0m\u001b[0mimg_org\u001b[0m\u001b[0;34m.\u001b[0m\u001b[0mshape\u001b[0m\u001b[0;34m[\u001b[0m\u001b[0;36m1\u001b[0m\u001b[0;34m]\u001b[0m\u001b[0;34m,\u001b[0m \u001b[0mimg_org\u001b[0m\u001b[0;34m.\u001b[0m\u001b[0mshape\u001b[0m\u001b[0;34m[\u001b[0m\u001b[0;36m0\u001b[0m\u001b[0;34m]\u001b[0m\u001b[0;34m)\u001b[0m\u001b[0;34m)\u001b[0m\u001b[0;34m\u001b[0m\u001b[0;34m\u001b[0m\u001b[0m\n\u001b[1;32m      7\u001b[0m \u001b[0;34m\u001b[0m\u001b[0m\n",
      "\u001b[0;31mTypeError\u001b[0m: data type not understood"
     ]
    }
   ],
   "source": [
    "# (3) 平移幾何轉換\n",
    "\n",
    "# 設定 translation transformation matrix\n",
    "# x 平移 50 pixel; y 平移 100 pixel\n",
    "M = np.array([[1, 0, 100], [0, 1, 50]], dtype=np.float32)\n",
    "shift_img = cv2.warpAffine(img_org, M, (img_org.shape[1], img_org.shape[0]))\n",
    "\n",
    "# 組合 + 顯示圖片\n",
    "img_shift = np.hstack((img_org, shift_img))\n",
    "cv2.imshow('shift image', img_shift)\n",
    "k = cv2.waitKey(0)\n",
    "cv2.destroyAllWindows()"
   ]
  },
  {
   "cell_type": "code",
   "execution_count": null,
   "metadata": {},
   "outputs": [],
   "source": []
  }
 ],
 "metadata": {
  "kernelspec": {
   "display_name": "Python 3",
   "language": "python",
   "name": "python3"
  },
  "language_info": {
   "codemirror_mode": {
    "name": "ipython",
    "version": 3
   },
   "file_extension": ".py",
   "mimetype": "text/x-python",
   "name": "python",
   "nbconvert_exporter": "python",
   "pygments_lexer": "ipython3",
   "version": "3.7.3"
  }
 },
 "nbformat": 4,
 "nbformat_minor": 2
}
