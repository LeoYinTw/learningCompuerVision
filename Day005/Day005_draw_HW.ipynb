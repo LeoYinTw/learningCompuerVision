{
 "cells": [
  {
   "cell_type": "code",
   "execution_count": 1,
   "metadata": {},
   "outputs": [],
   "source": [
    "import cv2\n",
    "import numpy as np\n",
    "\n",
    "img_org = cv2.imread('../commonData/lena.png')"
   ]
  },
  {
   "cell_type": "code",
   "execution_count": 2,
   "metadata": {
    "scrolled": true
   },
   "outputs": [],
   "source": [
    "# [對明亮度做直方圖均衡處理]\n",
    "img_org_small = cv2.resize(img_org, None, fx=0.7, fy=0.7)\n",
    "\n",
    "img_hls = cv2.cvtColor(img_org_small, cv2.COLOR_BGR2HLS)\n",
    "img_hls[..., 1] = cv2.equalizeHist(img_hls[..., 1])\n",
    "img_hls = cv2.cvtColor(img_hls, cv2.COLOR_HLS2BGR)\n",
    "\n",
    "img_hw = cv2.cvtColor(img_org_small, cv2.COLOR_BGR2HSV)\n",
    "# 對明亮度做直方圖均衡 -> 對 HSV 的 V 做直方圖均衡\n",
    "img_hw[..., -1] = cv2.equalizeHist(img_hw[..., -1])\n",
    "# 將圖片轉回 BGR\n",
    "img_hw = cv2.cvtColor(img_hw, cv2.COLOR_HSV2BGR)\n",
    "\n",
    "img_equal_compare = np.hstack((img_org_small, img_hls, img_hw))\n",
    "cv2.imshow('equal_result', img_equal_compare)\n",
    "cv2.waitKey(0)\n",
    "cv2.destroyAllWindows()"
   ]
  },
  {
   "cell_type": "code",
   "execution_count": 3,
   "metadata": {},
   "outputs": [],
   "source": [
    "# [水平鏡像 + 縮放處理 (0.5 倍)]\n",
    "\n",
    "# 縮放-0.5倍\n",
    "img_small = cv2.resize(img_org, None, fx=0.5, fy=0.5)\n",
    "\n",
    "# 翻轉-水平鏡像\n",
    "img_small = img_small[:,::-1,:]\n",
    "\n",
    "cv2.imshow('img_small', img_small)\n",
    "cv2.waitKey(0)\n",
    "cv2.destroyAllWindows()"
   ]
  },
  {
   "cell_type": "code",
   "execution_count": 4,
   "metadata": {},
   "outputs": [],
   "source": [
    "# [畫出人物矩形邊框]\n",
    "img_small = cv2.rectangle(img_small, (40, 20), (220, 255), (0, 0, 255), 2)\n",
    "\n",
    "cv2.imshow('img_small', img_small)\n",
    "cv2.waitKey(0)\n",
    "cv2.destroyAllWindows()"
   ]
  },
  {
   "cell_type": "code",
   "execution_count": 5,
   "metadata": {},
   "outputs": [],
   "source": [
    "# [並且得到新的矩形邊框座標]"
   ]
  },
  {
   "cell_type": "code",
   "execution_count": null,
   "metadata": {},
   "outputs": [],
   "source": []
  }
 ],
 "metadata": {
  "kernelspec": {
   "display_name": "Python 3",
   "language": "python",
   "name": "python3"
  },
  "language_info": {
   "codemirror_mode": {
    "name": "ipython",
    "version": 3
   },
   "file_extension": ".py",
   "mimetype": "text/x-python",
   "name": "python",
   "nbconvert_exporter": "python",
   "pygments_lexer": "ipython3",
   "version": "3.7.3"
  }
 },
 "nbformat": 4,
 "nbformat_minor": 2
}
